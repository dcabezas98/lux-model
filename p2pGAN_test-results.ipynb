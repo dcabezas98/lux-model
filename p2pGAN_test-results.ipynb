{
 "cells": [
  {
   "cell_type": "code",
   "execution_count": null,
   "metadata": {
    "colab": {
     "base_uri": "https://localhost:8080/"
    },
    "executionInfo": {
     "elapsed": 24372,
     "status": "ok",
     "timestamp": 1617624558854,
     "user": {
      "displayName": "DAVID CABEZAS BERRIDO",
      "photoUrl": "",
      "userId": "11478706102915359853"
     },
     "user_tz": -120
    },
    "id": "K7VgjDQTJ-qc",
    "outputId": "661de9fa-a4e6-44c0-cbb4-690219a13d8d"
   },
   "outputs": [],
   "source": [
    "# For Google Colab to access Drive\n",
    "#from google.colab import drive\n",
    "#drive.mount('/content/drive')"
   ]
  },
  {
   "cell_type": "code",
   "execution_count": null,
   "metadata": {
    "id": "K05KIbZdJ-qg"
   },
   "outputs": [],
   "source": [
    "# David Cabezas Berrido\n",
    "\n",
    "# p2pGAN_test-results.py\n",
    "\n",
    "# Generates predictions for test images and writes results to disc\n",
    "\n",
    "import tensorflow as tf\n",
    "import matplotlib.pyplot as plt\n",
    "import os\n",
    "\n",
    "PATH = '.' #'/content/drive/My Drive/TFG-Image-Optimization' # for Google Colab\n",
    "INPATH = PATH+'/data/jpeg/short/'\n",
    "MODELS = PATH+'/models/'\n",
    "OUPATH = PATH+'/results/p2pGAN/'\n",
    "\n",
    "#OUPATH = PATH+'/results/p2pGANlow/' # Processed by generator with lower resolution (1024 x 1536)\n",
    "#OUPATH = PATH+'/results/p2pGANlow2/' # Processed by generator with lower resolution (2048 x 3072)\n",
    "#OUPATH = PATH+'/results/p2pGANepoch70/'\n",
    "#OUPATH = PATH+'/results/p2pGANepoch60/'\n",
    "#OUPATH = PATH+'/results/p2pGAN-train-false/'\n",
    "\n",
    "\n",
    "imgurls = !ls -1 \"{INPATH}\" # short exposure images\n",
    "\n",
    "# Match each short exposure image with the corresponding long exposure image \n",
    "def urlTarget(url):\n",
    "    ext=url.split('.')[-1]\n",
    "    u=url.split('-')\n",
    "    return ''.join([u[0],'-',u[1],'.'+ext])\n",
    "\n",
    "imgurls_tg=[(url,urlTarget(url)) for url in imgurls]\n",
    "\n",
    "# Train/Test split\n",
    "def isForTrain(url):\n",
    "    u=url.split('-')\n",
    "    return u[1][0] in {'0','1'}\n",
    "\n",
    "# Test images\n",
    "ts_urls = [url for url in imgurls_tg if not isForTrain(url[0])] # First digit is 2\n",
    "\n",
    "# Dimensions for test images\n",
    "#TEST_HEIGHT = 3072 #=12*256 # ! This resolution requires a large RAM size\n",
    "#TEST_WIDTH = 4608 #=18*256\n",
    "\n",
    "#TEST_HEIGHT = 2048 \n",
    "#TEST_WIDTH = 3072\n",
    "\n",
    "#TEST_HEIGHT = 1024 \n",
    "#TEST_WIDTH = 1536"
   ]
  },
  {
   "cell_type": "code",
   "execution_count": null,
   "metadata": {
    "colab": {
     "base_uri": "https://localhost:8080/"
    },
    "executionInfo": {
     "elapsed": 5403,
     "status": "ok",
     "timestamp": 1617627483125,
     "user": {
      "displayName": "DAVID CABEZAS BERRIDO",
      "photoUrl": "",
      "userId": "11478706102915359853"
     },
     "user_tz": -120
    },
    "id": "NNP6UFu9J-qh",
    "outputId": "29cae82e-d5fa-47ac-8aab-def2d63f5049"
   },
   "outputs": [],
   "source": [
    "# Load generator\n",
    "generator = tf.keras.models.load_model(MODELS+'GAN-generator')\n",
    "#generator = tf.keras.models.load_model(MODELS+'GAN-generator-epoch60')\n",
    "#generator = tf.keras.models.load_model(MODELS+'GAN-generator-epoch70')"
   ]
  },
  {
   "cell_type": "code",
   "execution_count": null,
   "metadata": {
    "id": "2huy-vB5J-qj"
   },
   "outputs": [],
   "source": [
    "# Function to read test images\n",
    "def decode_normalize(path):\n",
    "    inimg = tf.cast(tf.image.decode_jpeg(tf.io.read_file(path)),tf.float32)[...,:3]\n",
    "    inimg = tf.image.resize(inimg, [TEST_HEIGHT, TEST_WIDTH], method=tf.image.ResizeMethod.NEAREST_NEIGHBOR)\n",
    "    inimg = inimg/127.5-1\n",
    "    return inimg"
   ]
  },
  {
   "cell_type": "code",
   "execution_count": null,
   "metadata": {
    "id": "vefRjZRXJ-qk"
   },
   "outputs": [],
   "source": [
    "for inimg, target in ts_urls: # Iterate throgh input test images\n",
    "    dat = tf.data.Dataset.from_tensor_slices([INPATH+inimg])\n",
    "    dat = dat.map(decode_normalize)\n",
    "    dat = dat.batch(1)\n",
    "    for img in dat:\n",
    "        prediction = generator(img, training=True) # Prediction for input\n",
    "        # getting the pixel values between [0, 1]\n",
    "        #plt.imshow(prediction[0]*0.5+0.5) # Plot prediction\n",
    "        #plt.show()\n",
    "        tf.keras.preprocessing.image.save_img(OUPATH+inimg,prediction[0]*0.5+0.5) # Save to disc"
   ]
  }
 ],
 "metadata": {
  "accelerator": "GPU",
  "colab": {
   "collapsed_sections": [],
   "name": "p2pGAN_test-results.ipynb",
   "provenance": []
  },
  "kernelspec": {
   "display_name": "Python 3",
   "language": "python",
   "name": "python3"
  },
  "language_info": {
   "codemirror_mode": {
    "name": "ipython",
    "version": 3
   },
   "file_extension": ".py",
   "mimetype": "text/x-python",
   "name": "python",
   "nbconvert_exporter": "python",
   "pygments_lexer": "ipython3",
   "version": "3.8.5"
  }
 },
 "nbformat": 4,
 "nbformat_minor": 1
}
