{
 "cells": [
  {
   "cell_type": "code",
   "execution_count": null,
   "metadata": {
    "colab": {
     "base_uri": "https://localhost:8080/"
    },
    "executionInfo": {
     "elapsed": 1701,
     "status": "ok",
     "timestamp": 1617619388476,
     "user": {
      "displayName": "DAVID CABEZAS BERRIDO",
      "photoUrl": "",
      "userId": "11478706102915359853"
     },
     "user_tz": -120
    },
    "id": "K7VgjDQTJ-qc",
    "outputId": "b4466160-0f79-45d3-e3de-c3607e419f9c"
   },
   "outputs": [],
   "source": [
    "# For Google Colab to access Drive\n",
    "#from google.colab import drive\n",
    "#drive.mount('/content/drive')"
   ]
  },
  {
   "cell_type": "code",
   "execution_count": null,
   "metadata": {
    "executionInfo": {
     "elapsed": 1540,
     "status": "ok",
     "timestamp": 1617619390692,
     "user": {
      "displayName": "DAVID CABEZAS BERRIDO",
      "photoUrl": "",
      "userId": "11478706102915359853"
     },
     "user_tz": -120
    },
    "id": "K05KIbZdJ-qg"
   },
   "outputs": [],
   "source": [
    "# David Cabezas Berrido\n",
    "\n",
    "# p2pGAN-discriminator.ipynb\n",
    "\n",
    "# Shows examples of how discriminator works\n",
    "\n",
    "import tensorflow as tf\n",
    "import matplotlib.pyplot as plt\n",
    "\n",
    "PATH = '/content/drive/My Drive/TFG-Image-Optimization' # for Google Colab\n",
    "INPATH = PATH+'/discriminator-inputs/' # The discriminator examples are mixed images (half real, half generated) of shape 1536 x 1024\n",
    "DARK = INPATH+'/dark/' # Dark images of the appropriate shape\n",
    "MODELS = PATH+'/models/'\n",
    "OUPATH = PATH+'/results/discriminator/' # for Google Colab\n",
    "\n",
    "urls=['fuji-20018-x8.jpg','fuji-20069-x6.jpg','fuji-20167-x2.jpg','fuji-20167-x16.jpg']"
   ]
  },
  {
   "cell_type": "code",
   "execution_count": null,
   "metadata": {
    "colab": {
     "base_uri": "https://localhost:8080/"
    },
    "executionInfo": {
     "elapsed": 1731,
     "status": "ok",
     "timestamp": 1617619393585,
     "user": {
      "displayName": "DAVID CABEZAS BERRIDO",
      "photoUrl": "",
      "userId": "11478706102915359853"
     },
     "user_tz": -120
    },
    "id": "NNP6UFu9J-qh",
    "outputId": "f3ad4a88-c2ed-4d51-cf4a-06336fe08d11"
   },
   "outputs": [],
   "source": [
    "# Load discriminator\n",
    "discriminator = tf.keras.models.load_model(MODELS+'GAN-discriminator')"
   ]
  },
  {
   "cell_type": "code",
   "execution_count": null,
   "metadata": {
    "executionInfo": {
     "elapsed": 1804,
     "status": "ok",
     "timestamp": 1617619395412,
     "user": {
      "displayName": "DAVID CABEZAS BERRIDO",
      "photoUrl": "",
      "userId": "11478706102915359853"
     },
     "user_tz": -120
    },
    "id": "2huy-vB5J-qj"
   },
   "outputs": [],
   "source": [
    "# Function to read images\n",
    "def decode_normalize(path):\n",
    "    inimg = tf.cast(tf.image.decode_jpeg(tf.io.read_file(path)),tf.float32)[...,:3]\n",
    "    inimg = inimg/127.5-1\n",
    "    return inimg"
   ]
  },
  {
   "cell_type": "code",
   "execution_count": null,
   "metadata": {
    "colab": {
     "base_uri": "https://localhost:8080/",
     "height": 1000
    },
    "executionInfo": {
     "elapsed": 3463,
     "status": "ok",
     "timestamp": 1617619432056,
     "user": {
      "displayName": "DAVID CABEZAS BERRIDO",
      "photoUrl": "",
      "userId": "11478706102915359853"
     },
     "user_tz": -120
    },
    "id": "TD-BTeFbOxOz",
    "outputId": "0bbbbb99-9467-4616-8da0-0b38fd51e1f9"
   },
   "outputs": [],
   "source": [
    "for url in urls: # Needs to load both dark and generated/real images\n",
    "    path = INPATH+url\n",
    "    dat = tf.data.Dataset.from_tensor_slices([path])\n",
    "    dat = dat.map(decode_normalize)\n",
    "    dat = dat.batch(1)\n",
    "    dark_path=DARK+url\n",
    "    dark_dat = tf.data.Dataset.from_tensor_slices([dark_path])\n",
    "    dark_dat = dark_dat.map(decode_normalize)\n",
    "    dark_dat = dark_dat.batch(1)\n",
    "    for img in dat:\n",
    "        for dark_img in dark_dat:\n",
    "            prediction = discriminator([dark_img,img], training=True) # Prediction\n",
    "            out=prediction[0,...,-1]*0.5+0.5\n",
    "            plt.imshow(out, cmap='RdBu_r', vmin=-4, vmax=8)\n",
    "            plt.colorbar()\n",
    "            plt.savefig(OUPATH+url)\n",
    "            plt.show()\n",
    "            #plt.imsave(OUPATH+url, out, cmap='RdBu_r', vmin=-4, vmax=8)"
   ]
  }
 ],
 "metadata": {
  "accelerator": "GPU",
  "colab": {
   "collapsed_sections": [],
   "name": "p2pGAN-discriminator.ipynb",
   "provenance": []
  },
  "kernelspec": {
   "display_name": "Python 3",
   "language": "python",
   "name": "python3"
  },
  "language_info": {
   "codemirror_mode": {
    "name": "ipython",
    "version": 3
   },
   "file_extension": ".py",
   "mimetype": "text/x-python",
   "name": "python",
   "nbconvert_exporter": "python",
   "pygments_lexer": "ipython3",
   "version": "3.8.5"
  }
 },
 "nbformat": 4,
 "nbformat_minor": 1
}
