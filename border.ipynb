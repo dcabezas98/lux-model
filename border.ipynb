{
 "cells": [
  {
   "cell_type": "code",
   "execution_count": null,
   "metadata": {
    "id": "m-0Jv1pdECIO"
   },
   "outputs": [],
   "source": [
    "# For Google Colab to access Drive\n",
    "#from google.colab import drive\n",
    "#drive.mount('/content/drive')"
   ]
  },
  {
   "cell_type": "code",
   "execution_count": null,
   "metadata": {
    "id": "LTlrxDt1DsdZ"
   },
   "outputs": [],
   "source": [
    "PATH = '.' #'/content/drive/My Drive/TFG-Image-Optimization' # for Google Colab\n",
    "INPATH=PATH+'border/inputs/'\n",
    "SIGN_PATH=INPATH+'fuji-20018-x6.jpg'\n",
    "BICYCLE_PATH=INPATH+'sony-20177-x12.jpg'"
   ]
  },
  {
   "cell_type": "code",
   "execution_count": null,
   "metadata": {
    "id": "84q1ZMUoDsdm"
   },
   "outputs": [],
   "source": [
    "# David Cabezas Berrido\n",
    "\n",
    "# border.ipynb\n",
    "\n",
    "# Examples of approaches to solve the shape problem\n",
    "\n",
    "import matplotlib.pyplot as plt\n",
    "import cv2\n",
    "\n",
    "import tensorflow as tf\n",
    "\n",
    "GEN_PATH=PATH+'models/GAN-generator'\n",
    "OUPATH=PATH+'border/outputs/'\n",
    "OUPATH0=OUPATH'border-0/'\n",
    "OUPATHCOPY=OUPATH+'border-copy/'\n",
    "\n",
    "generator = tf.keras.models.load_model(GEN_PATH)\n",
    "\n",
    "def decode_normalize(img_path):\n",
    "    img = tf.cast(tf.image.decode_jpeg(tf.io.read_file(img_path)),tf.float32)[...,:3]\n",
    "    img = img/127.5-1\n",
    "    return img\n",
    "\n",
    "def lightUp0(img_path): # Zero padding\n",
    "    dat = tf.data.Dataset.from_tensor_slices([img_path])\n",
    "    dat = dat.map(decode_normalize)\n",
    "    dat = dat.batch(1)\n",
    "    for img in dat:\n",
    "        HEIGHT = img.shape[1] # Zero padding so the the height and width are divisible by 256\n",
    "        WIDTH = img.shape[2]\n",
    "        HPAD = (256-HEIGHT%256)%256 \n",
    "        WPAD = (256-WIDTH%256)%256\n",
    "        img = tf.keras.layers.ZeroPadding2D(padding=((0,HPAD),(0,WPAD)))(img)\n",
    "        prediction = generator(img, training=True) # Prediction for input\n",
    "        \n",
    "    out = prediction[0]\n",
    "    out = out[:HEIGHT,:WIDTH]\n",
    "    return out*0.5+0.5\n",
    "\n",
    "def lightUpCopy(img_path): # Border replication\n",
    "    dat = tf.data.Dataset.from_tensor_slices([img_path])\n",
    "    dat = dat.map(decode_normalize)\n",
    "    dat = dat.batch(1)\n",
    "    for img in dat:\n",
    "        HEIGHT = img.shape[1]\n",
    "        WIDTH = img.shape[2]\n",
    "        HPAD = (256-HEIGHT%256)%256\n",
    "        WPAD = (256-WIDTH%256)%256\n",
    "        # Horizontal bottom border\n",
    "        row = img[0,-1,...]\n",
    "        hpad = tf.tile(row[tf.newaxis,...],[HPAD,1,1])[tf.newaxis,...]\n",
    "        img = tf.keras.layers.Concatenate(axis=1)([img,hpad])\n",
    "        # Vertical right border\n",
    "        col = img[0,:,-1,...]\n",
    "        wpad = tf.tile(col[:,tf.newaxis,...],[1,WPAD,1])[tf.newaxis,...]\n",
    "        img = tf.keras.layers.Concatenate(axis=2)([img,wpad])\n",
    "        prediction = generator(img, training=True) # Prediction for input\n",
    "        \n",
    "    out = prediction[0]\n",
    "    out = out[:HEIGHT,:WIDTH]\n",
    "    return out*0.5+0.5"
   ]
  },
  {
   "cell_type": "code",
   "execution_count": null,
   "metadata": {
    "id": "4QvfaBH-Dsdy"
   },
   "outputs": [],
   "source": [
    "sign=plt.imread(SIGN_PATH) # Save the image in different shapes\n",
    "img=cv2.resize(sign, dsize=(1536,1024), interpolation=cv2.INTER_AREA)\n",
    "plt.imsave(INPATH+'sign/1024x1536.jpg',img)\n",
    "img=cv2.resize(sign, dsize=(1400,900), interpolation=cv2.INTER_AREA)\n",
    "plt.imsave(INPATH+'sign/900x1400.jpg',img)"
   ]
  },
  {
   "cell_type": "code",
   "execution_count": null,
   "metadata": {
    "id": "GfEtblTKDsd7"
   },
   "outputs": [],
   "source": [
    "path=plt.imread(BICYCLE_PATH) # Save the image in different shapes\n",
    "img=cv2.resize(path, dsize=(1536,1024), interpolation=cv2.INTER_AREA)\n",
    "plt.imsave(INPATH+'bicycle/1024x1536.jpg',img)\n",
    "img=cv2.resize(path, dsize=(1400,900), interpolation=cv2.INTER_AREA)\n",
    "plt.imsave(INPATH+'bicycle/900x1400.jpg',img)"
   ]
  },
  {
   "cell_type": "markdown",
   "metadata": {
    "id": "m4_MjR4IhVJh"
   },
   "source": [
    "Generate predictions for different shapes."
   ]
  },
  {
   "cell_type": "markdown",
   "metadata": {
    "id": "QoDf_jCKwKj0"
   },
   "source": [
    "Zero-padding."
   ]
  },
  {
   "cell_type": "code",
   "execution_count": null,
   "metadata": {
    "id": "to08PbTgDseB",
    "scrolled": true
   },
   "outputs": [],
   "source": [
    "pred=lightUp0(INPATH+'bicycle/1024x1536.jpg')\n",
    "plt.imshow(pred)\n",
    "plt.show()\n",
    "tf.keras.preprocessing.image.save_img(OUPATH0+'bicycle1024x1536.jpg',pred) # Save to disc"
   ]
  },
  {
   "cell_type": "code",
   "execution_count": null,
   "metadata": {
    "id": "HRv2z6IqnEnQ"
   },
   "outputs": [],
   "source": [
    "pred=lightUp0(INPATH+'sign/1024x1536.jpg')\n",
    "plt.imshow(pred)\n",
    "plt.show()\n",
    "tf.keras.preprocessing.image.save_img(OUPATH0+'sign1024x1536.jpg',pred) # Save to disc"
   ]
  },
  {
   "cell_type": "code",
   "execution_count": null,
   "metadata": {
    "id": "UIKj3dd0Hyjr"
   },
   "outputs": [],
   "source": [
    "pred=lightUp0(INPATH+'bicycle/900x1400.jpg')\n",
    "plt.imshow(pred)\n",
    "plt.show()\n",
    "tf.keras.preprocessing.image.save_img(OUPATH+'bicycle900x1400.jpg',pred) # Save to disc"
   ]
  },
  {
   "cell_type": "code",
   "execution_count": null,
   "metadata": {
    "id": "ChJhzqprnPbI"
   },
   "outputs": [],
   "source": [
    "pred=lightUp0(INPATH+'sign/900x1400.jpg')\n",
    "plt.imshow(pred)\n",
    "plt.show()\n",
    "tf.keras.preprocessing.image.save_img(OUPATH0+'sign900x1400.jpg',pred) # Save to disc"
   ]
  },
  {
   "cell_type": "markdown",
   "metadata": {
    "id": "eSEZwCjKwGn0"
   },
   "source": [
    "Border replication."
   ]
  },
  {
   "cell_type": "code",
   "execution_count": null,
   "metadata": {
    "id": "ukF5Q-NWwYOR",
    "scrolled": true
   },
   "outputs": [],
   "source": [
    "pred=lightUpCopy(INPATH+'bicycle/1024x1536.jpg')\n",
    "plt.imshow(pred)\n",
    "plt.show()\n",
    "tf.keras.preprocessing.image.save_img(OUPATHCOPY+'bicycle1024x1536.jpg',pred) # Save to disc"
   ]
  },
  {
   "cell_type": "code",
   "execution_count": null,
   "metadata": {
    "id": "R2satySDwYOS"
   },
   "outputs": [],
   "source": [
    "pred=lightUpCopy(INPATH+'sign/1024x1536.jpg')\n",
    "plt.imshow(pred)\n",
    "plt.show()\n",
    "tf.keras.preprocessing.image.save_img(OUPATHCOPY+'sign1024x1536.jpg',pred) # Save to disc"
   ]
  },
  {
   "cell_type": "code",
   "execution_count": null,
   "metadata": {
    "id": "KVJHKM1jwYOT"
   },
   "outputs": [],
   "source": [
    "pred=lightUpCopy(INPATH+'bicycle/900x1400.jpg')\n",
    "plt.imshow(pred)\n",
    "plt.show()\n",
    "tf.keras.preprocessing.image.save_img(OUPATHCOPY+'bicycle900x1400.jpg',pred) # Save to disc"
   ]
  },
  {
   "cell_type": "code",
   "execution_count": null,
   "metadata": {
    "id": "l705GonLwYOU"
   },
   "outputs": [],
   "source": [
    "pred=lightUpCopy(INPATH+'sign/900x1400.jpg')\n",
    "plt.imshow(pred)\n",
    "plt.show()\n",
    "tf.keras.preprocessing.image.save_img(OUPATHCOPY+'sign900x1400.jpg',pred) # Save to disc"
   ]
  }
 ],
 "metadata": {
  "accelerator": "GPU",
  "colab": {
   "collapsed_sections": [],
   "name": "border.ipynb",
   "private_outputs": true,
   "provenance": []
  },
  "kernelspec": {
   "display_name": "Python 3",
   "language": "python",
   "name": "python3"
  },
  "language_info": {
   "codemirror_mode": {
    "name": "ipython",
    "version": 3
   },
   "file_extension": ".py",
   "mimetype": "text/x-python",
   "name": "python",
   "nbconvert_exporter": "python",
   "pygments_lexer": "ipython3",
   "version": "3.8.5"
  }
 },
 "nbformat": 4,
 "nbformat_minor": 1
}
