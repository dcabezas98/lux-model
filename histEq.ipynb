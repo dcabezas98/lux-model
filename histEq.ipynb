{
 "cells": [
  {
   "cell_type": "code",
   "execution_count": null,
   "metadata": {
    "colab": {
     "base_uri": "https://localhost:8080/",
     "height": 124
    },
    "colab_type": "code",
    "executionInfo": {
     "elapsed": 293898,
     "status": "ok",
     "timestamp": 1597319938719,
     "user": {
      "displayName": "DAVID CABEZAS BERRIDO",
      "photoUrl": "",
      "userId": "11478706102915359853"
     },
     "user_tz": -120
    },
    "id": "Q_kqAlXYQ1rn",
    "outputId": "96189309-4436-4d1e-bda5-d636216d8608"
   },
   "outputs": [],
   "source": [
    "# For Google Colab to access Drive\n",
    "#from google.colab import drive\n",
    "#drive.mount('/content/drive')"
   ]
  },
  {
   "cell_type": "code",
   "execution_count": null,
   "metadata": {
    "colab": {
     "base_uri": "https://localhost:8080/",
     "height": 34
    },
    "colab_type": "code",
    "executionInfo": {
     "elapsed": 10813,
     "status": "ok",
     "timestamp": 1597322875462,
     "user": {
      "displayName": "DAVID CABEZAS BERRIDO",
      "photoUrl": "",
      "userId": "11478706102915359853"
     },
     "user_tz": -120
    },
    "id": "xr2ZucMcpWa8",
    "outputId": "2ee01ded-848d-4324-cc0b-3d3f7674b97a"
   },
   "outputs": [],
   "source": [
    "# David Cabezas Berrido\n",
    "\n",
    "# histEq.ipynb\n",
    "\n",
    "# Equalize test images and writes results to disc\n",
    "\n",
    "import cv2\n",
    "import matplotlib.pyplot as plt\n",
    "\n",
    "PATH = '.' #'/content/drive/My Drive/TFG-Image-Optimization' # for Google Colab\n",
    "INPATH = PATH+'/data/jpeg/short/'\n",
    "OUPATH_HSV = PATH+'/results/histEqHSV/' # HSV representation\n",
    "OUPATH_HSL = PATH+'/results/histEqHSL/' # HSL representation\n",
    "OUPATH = '/results/histEq' # Examples and histograms\n",
    "\n",
    "imgurls = !ls -1 \"{INPATH}\" # short exposure images\n",
    "\n",
    "# Select the test set\n",
    "def isForTest(url):\n",
    "    u=url.split('-')\n",
    "    return u[1][0] == '2'\n",
    "\n",
    "# Test images\n",
    "ts_urls = [url for url in imgurls if isForTest(url)] # First digit is 2"
   ]
  },
  {
   "cell_type": "code",
   "execution_count": null,
   "metadata": {
    "colab": {},
    "colab_type": "code",
    "executionInfo": {
     "elapsed": 1441,
     "status": "ok",
     "timestamp": 1597319961871,
     "user": {
      "displayName": "DAVID CABEZAS BERRIDO",
      "photoUrl": "",
      "userId": "11478706102915359853"
     },
     "user_tz": -120
    },
    "id": "Uf34iObhrqHM"
   },
   "outputs": [],
   "source": [
    "# cv2.createCLAHE default parameters\n",
    "CLIP_LIMIT = 40.0\n",
    "TILES=8\n",
    "TILE_GRID_SIZE = (TILES,TILES)"
   ]
  },
  {
   "cell_type": "code",
   "execution_count": null,
   "metadata": {
    "colab": {},
    "colab_type": "code",
    "executionInfo": {
     "elapsed": 1968,
     "status": "ok",
     "timestamp": 1597319962409,
     "user": {
      "displayName": "DAVID CABEZAS BERRIDO",
      "photoUrl": "",
      "userId": "11478706102915359853"
     },
     "user_tz": -120
    },
    "id": "RRWwrgDXq-YV"
   },
   "outputs": [],
   "source": [
    "def equalizeHistHSL(img):\n",
    "    img_hsl=cv2.cvtColor(img, cv2.COLOR_RGB2HLS) # Converts image to HSL representation\n",
    "    clahe = cv2.createCLAHE(clipLimit=CLIP_LIMIT, tileGridSize=TILE_GRID_SIZE)\n",
    "    img_hsl[:,:,1] = clahe.apply(img_hsl[:,:,1]) # Equalizes lightness channel\n",
    "    return cv2.cvtColor(img_hsl, cv2.COLOR_HLS2RGB) # Converts back to RGB"
   ]
  },
  {
   "cell_type": "code",
   "execution_count": null,
   "metadata": {
    "colab": {},
    "colab_type": "code",
    "executionInfo": {
     "elapsed": 1422,
     "status": "ok",
     "timestamp": 1597319962411,
     "user": {
      "displayName": "DAVID CABEZAS BERRIDO",
      "photoUrl": "",
      "userId": "11478706102915359853"
     },
     "user_tz": -120
    },
    "id": "5WjEjpu_1heb"
   },
   "outputs": [],
   "source": [
    "def equalizeHistHSV(img):\n",
    "    img_hsv=cv2.cvtColor(img, cv2.COLOR_RGB2HSV) # Converts image to HSV representation\n",
    "    clahe = cv2.createCLAHE(clipLimit=CLIP_LIMIT, tileGridSize=TILE_GRID_SIZE)\n",
    "    img_hsv[:,:,2] = clahe.apply(img_hsv[:,:,2]) # Equalizes value channel\n",
    "    return cv2.cvtColor(img_hsv, cv2.COLOR_HSV2RGB) # Converts back to RGB"
   ]
  },
  {
   "cell_type": "code",
   "execution_count": null,
   "metadata": {
    "colab": {
     "base_uri": "https://localhost:8080/",
     "height": 52
    },
    "colab_type": "code",
    "executionInfo": {
     "elapsed": 1136076,
     "status": "ok",
     "timestamp": 1597324039090,
     "user": {
      "displayName": "DAVID CABEZAS BERRIDO",
      "photoUrl": "",
      "userId": "11478706102915359853"
     },
     "user_tz": -120
    },
    "id": "j9Oe96VRvgXb",
    "outputId": "8d8a2b86-aa6b-4daf-e0b0-6ab9bd184941"
   },
   "outputs": [],
   "source": [
    "# HSV representation: equalizes value channel\n",
    "for inimg in ts_urls: # Iterate throughout input test images\n",
    "    image=plt.imread(INPATH+inimg)\n",
    "    predHSV = equalizeHistHSV(image) # Equalized image\n",
    "    #plt.imshow(predHSV) # Plot\n",
    "    #plt.show()\n",
    "    plt.imsave(OUPATH_HSV+inimg,predHSV) # Save to disc"
   ]
  },
  {
   "cell_type": "code",
   "execution_count": null,
   "metadata": {},
   "outputs": [],
   "source": [
    "# HSL representation: equalizes lightness channel\n",
    "for inimg in ts_urls: # Iterate throughout input test images\n",
    "    image=plt.imread(INPATH+inimg)\n",
    "    predHSL = equalizeHistHSL(image) # Equalized image\n",
    "    #plt.imshow(predHSL) # Plot\n",
    "    #plt.show()\n",
    "    plt.imsave(OUPATH_HSL+inimg,predHSL) # Save to disc"
   ]
  },
  {
   "cell_type": "markdown",
   "metadata": {},
   "source": [
    "### Examples"
   ]
  },
  {
   "cell_type": "code",
   "execution_count": null,
   "metadata": {},
   "outputs": [],
   "source": [
    "# Equalization HSV\n",
    "img = plt.imread(INPATH+'sony-20005-x6.jpg')\n",
    "img_hsv = cv2.cvtColor(img, cv2.COLOR_RGB2HSV)\n",
    "img_hsv[:, :, 2] = cv2.equalizeHist(img_hsv[:, :, 2])\n",
    "img_equ=cv2.cvtColor(img_hsv, cv2.COLOR_HSV2RGB)\n",
    "plt.imshow(img_equ)\n",
    "plt.imsave(OUPATH+'hsv-eq.jpg',img_equ)"
   ]
  },
  {
   "cell_type": "code",
   "execution_count": null,
   "metadata": {},
   "outputs": [],
   "source": [
    "# Equalization HSL\n",
    "img = plt.imread(INPATH+'sony-20005-x6.jpg')\n",
    "img_hsl = cv2.cvtColor(img, cv2.COLOR_RGB2HLS)\n",
    "img_hsl[:, :, 1] = cv2.equalizeHist(img_hsl[:, :, 1])\n",
    "img_equ=cv2.cvtColor(img_hsl, cv2.COLOR_HLS2RGB)\n",
    "plt.imshow(img_equ)\n",
    "plt.imsave(OUPATH+'hsl-eq.jpg',img_equ)"
   ]
  },
  {
   "cell_type": "code",
   "execution_count": null,
   "metadata": {},
   "outputs": [],
   "source": [
    "# CLAHE HSV\n",
    "img = plt.imread(INPATH+'sony-20005-x6.jpg')\n",
    "img_hsv = cv2.cvtColor(img, cv2.COLOR_RGB2HSV)\n",
    "clahe = cv2.createCLAHE(clipLimit=CLIP_LIMIT, tileGridSize=TILE_GRID_SIZE)\n",
    "img_hsv[:,:,2] = clahe.apply(img_hsv[:,:,2])\n",
    "img_equ=cv2.cvtColor(img_hsv, cv2.COLOR_HSV2RGB)\n",
    "plt.imshow(img_equ)\n",
    "plt.imsave(OUPATH+'hsv-clahe.jpg',img_equ)"
   ]
  },
  {
   "cell_type": "code",
   "execution_count": null,
   "metadata": {},
   "outputs": [],
   "source": [
    "# CLAHE HSL\n",
    "img = plt.imread(INPATH+'sony-20005-x6.jpg')\n",
    "img_hsl = cv2.cvtColor(img, cv2.COLOR_RGB2HLS)\n",
    "clahe = cv2.createCLAHE(clipLimit=CLIP_LIMIT, tileGridSize=TILE_GRID_SIZE)\n",
    "img_hsl[:,:,1] = clahe.apply(img_hsl[:,:,1])\n",
    "img_equ=cv2.cvtColor(img_hsl, cv2.COLOR_HLS2RGB)\n",
    "plt.imshow(img_equ)\n",
    "plt.imsave(OUPATH+'hsl-clahe.jpg',img_equ)"
   ]
  },
  {
   "cell_type": "markdown",
   "metadata": {},
   "source": [
    "### Histograms"
   ]
  },
  {
   "cell_type": "code",
   "execution_count": null,
   "metadata": {},
   "outputs": [],
   "source": [
    "# Equalization HSV\n",
    "img = plt.imread(INPATH+'sony-20005-x6.jpg')\n",
    "img_hsv = cv2.cvtColor(img, cv2.COLOR_RGB2HSV)\n",
    "\n",
    "channel= img_hsv[:,:,2]\n",
    "hist,bins = np.histogram(channel.flatten(),256,[0,256])\n",
    "\n",
    "cdf = hist.cumsum()\n",
    "cdf_normalized = cdf * hist.max()/ cdf.max()\n",
    "\n",
    "plt.plot(cdf_normalized, color = 'b')\n",
    "plt.hist(channel.flatten(),256,[0,256], color = 'r')\n",
    "plt.xlim([0,256])\n",
    "plt.legend(('cdf','histogram'), loc = 'lower right')\n",
    "plt.show()\n",
    "\n",
    "\n",
    "img = plt.imread(INPATH+'sony-20005-x6.jpg')\n",
    "img_hsv = cv2.cvtColor(img, cv2.COLOR_RGB2HSV)\n",
    "img_hsv[:, :, 2] = cv2.equalizeHist(img_hsv[:, :, 2])\n",
    "channel= img_hsv[:,:,2]\n",
    "hist,bins = np.histogram(channel.flatten(),256,[0,256])\n",
    "\n",
    "cdf = hist.cumsum()\n",
    "cdf_normalized = cdf * hist.max()/ cdf.max()\n",
    "\n",
    "plt.plot(cdf_normalized, color = 'b')\n",
    "plt.hist(channel.flatten(),256,[0,256], color = 'r')\n",
    "plt.xlim([0,256])\n",
    "plt.legend(('cdf','histogram'), loc = 'upper center')\n",
    "plt.show()"
   ]
  },
  {
   "cell_type": "code",
   "execution_count": null,
   "metadata": {},
   "outputs": [],
   "source": [
    "# Equalization HSL\n",
    "img = plt.imread(INPATH+'sony-20005-x6.jpg')\n",
    "img_hsl = cv2.cvtColor(img, cv2.COLOR_RGB2HLS)\n",
    "channel= img_hsl[:,:,1]\n",
    "hist,bins = np.histogram(channel.flatten(),256,[0,256])\n",
    "\n",
    "cdf = hist.cumsum()\n",
    "cdf_normalized = cdf * hist.max()/ cdf.max()\n",
    "\n",
    "plt.plot(cdf_normalized, color = 'b')\n",
    "plt.hist(channel.flatten(),256,[0,256], color = 'r')\n",
    "plt.xlim([0,256])\n",
    "plt.legend(('cdf','histogram'), loc = 'lower right')\n",
    "plt.show()\n",
    "\n",
    "\n",
    "img = plt.imread(INPATH+'sony-20005-x6.jpg')\n",
    "img_hsl = cv2.cvtColor(img, cv2.COLOR_RGB2HLS)\n",
    "img_hsl[:, :, 1] = cv2.equalizeHist(img_hsl[:, :, 1])\n",
    "channel= img_hsl[:,:,1]\n",
    "hist,bins = np.histogram(channel.flatten(),256,[0,256])\n",
    "\n",
    "cdf = hist.cumsum()\n",
    "cdf_normalized = cdf * hist.max()/ cdf.max()\n",
    "\n",
    "plt.plot(cdf_normalized, color = 'b')\n",
    "plt.hist(channel.flatten(),256,[0,256], color = 'r')\n",
    "plt.xlim([0,256])\n",
    "plt.legend(('cdf','histogram'), loc = 'upper center')\n",
    "plt.show()"
   ]
  },
  {
   "cell_type": "code",
   "execution_count": null,
   "metadata": {},
   "outputs": [],
   "source": [
    "# CLAHE HSV\n",
    "img = plt.imread(INPATH+'sony-20005-x6.jpg')\n",
    "img_hsv = cv2.cvtColor(img, cv2.COLOR_RGB2HSV)\n",
    "\n",
    "channel= img_hsv[:,:,2]\n",
    "hist,bins = np.histogram(channel.flatten(),256,[0,256])\n",
    "\n",
    "cdf = hist.cumsum()\n",
    "cdf_normalized = cdf * hist.max()/ cdf.max()\n",
    "\n",
    "plt.plot(cdf_normalized, color = 'b')\n",
    "plt.hist(channel.flatten(),256,[0,256], color = 'r')\n",
    "plt.xlim([0,256])\n",
    "plt.legend(('cdf','histogram'), loc = 'lower right')\n",
    "plt.show()\n",
    "\n",
    "\n",
    "img = plt.imread(INPATH+'sony-20005-x6.jpg')\n",
    "img_hsv = cv2.cvtColor(img, cv2.COLOR_RGB2HSV)\n",
    "clahe = cv2.createCLAHE(clipLimit=CLIP_LIMIT, tileGridSize=TILE_GRID_SIZE)\n",
    "img_hsv[:,:,2] = clahe.apply(img_hsv[:,:,2])\n",
    "channel= img_hsv[:,:,2]\n",
    "hist,bins = np.histogram(channel.flatten(),256,[0,256])\n",
    "\n",
    "cdf = hist.cumsum()\n",
    "cdf_normalized = cdf * hist.max()/ cdf.max()\n",
    "\n",
    "plt.plot(cdf_normalized, color = 'b')\n",
    "plt.hist(channel.flatten(),256,[0,256], color = 'r')\n",
    "plt.xlim([0,256])\n",
    "plt.legend(('cdf','histogram'), loc = 'upper center')\n",
    "plt.show()"
   ]
  },
  {
   "cell_type": "code",
   "execution_count": null,
   "metadata": {},
   "outputs": [],
   "source": [
    "# CLAHE HSL\n",
    "img = plt.imread(INPATH+'sony-20005-x6.jpg')\n",
    "img_hsl = cv2.cvtColor(img, cv2.COLOR_RGB2HLS)\n",
    "channel= img_hsl[:,:,1]\n",
    "hist,bins = np.histogram(channel.flatten(),256,[0,256])\n",
    "\n",
    "cdf = hist.cumsum()\n",
    "cdf_normalized = cdf * hist.max()/ cdf.max()\n",
    "\n",
    "plt.plot(cdf_normalized, color = 'b')\n",
    "plt.hist(channel.flatten(),256,[0,256], color = 'r')\n",
    "plt.xlim([0,256])\n",
    "plt.legend(('cdf','histogram'), loc = 'lower right')\n",
    "plt.show()\n",
    "\n",
    "\n",
    "img = plt.imread(INPATH+'sony-20005-x6.jpg')\n",
    "img_hsl = cv2.cvtColor(img, cv2.COLOR_RGB2HLS)\n",
    "clahe = cv2.createCLAHE(clipLimit=CLIP_LIMIT, tileGridSize=TILE_GRID_SIZE)\n",
    "img_hsl[:,:,1] = clahe.apply(img_hsl[:,:,1])\n",
    "channel= img_hsl[:,:,1]\n",
    "hist,bins = np.histogram(channel.flatten(),256,[0,256])\n",
    "\n",
    "cdf = hist.cumsum()\n",
    "cdf_normalized = cdf * hist.max()/ cdf.max()\n",
    "\n",
    "plt.plot(cdf_normalized, color = 'b')\n",
    "plt.hist(channel.flatten(),256,[0,256], color = 'r')\n",
    "plt.xlim([0,256])\n",
    "plt.legend(('cdf','histogram'), loc = 'upper center')\n",
    "plt.show()"
   ]
  }
 ],
 "metadata": {
  "colab": {
   "collapsed_sections": [],
   "name": "eqHist.ipynb",
   "provenance": []
  },
  "kernelspec": {
   "display_name": "Python 3",
   "language": "python",
   "name": "python3"
  },
  "language_info": {
   "codemirror_mode": {
    "name": "ipython",
    "version": 3
   },
   "file_extension": ".py",
   "mimetype": "text/x-python",
   "name": "python",
   "nbconvert_exporter": "python",
   "pygments_lexer": "ipython3",
   "version": "3.8.5"
  }
 },
 "nbformat": 4,
 "nbformat_minor": 1
}
