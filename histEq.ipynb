{
 "cells": [
  {
   "cell_type": "code",
   "execution_count": null,
   "metadata": {
    "colab": {
     "base_uri": "https://localhost:8080/",
     "height": 124
    },
    "colab_type": "code",
    "executionInfo": {
     "elapsed": 293898,
     "status": "ok",
     "timestamp": 1597319938719,
     "user": {
      "displayName": "DAVID CABEZAS BERRIDO",
      "photoUrl": "",
      "userId": "11478706102915359853"
     },
     "user_tz": -120
    },
    "id": "Q_kqAlXYQ1rn",
    "outputId": "96189309-4436-4d1e-bda5-d636216d8608"
   },
   "outputs": [],
   "source": [
    "# For Google Colab to access Drive\n",
    "#from google.colab import drive\n",
    "#drive.mount('/content/drive')"
   ]
  },
  {
   "cell_type": "code",
   "execution_count": null,
   "metadata": {
    "colab": {
     "base_uri": "https://localhost:8080/",
     "height": 34
    },
    "colab_type": "code",
    "executionInfo": {
     "elapsed": 10813,
     "status": "ok",
     "timestamp": 1597322875462,
     "user": {
      "displayName": "DAVID CABEZAS BERRIDO",
      "photoUrl": "",
      "userId": "11478706102915359853"
     },
     "user_tz": -120
    },
    "id": "xr2ZucMcpWa8",
    "outputId": "2ee01ded-848d-4324-cc0b-3d3f7674b97a"
   },
   "outputs": [],
   "source": [
    "# David Cabezas Berrido\n",
    "\n",
    "# histogramEqualization.ipynb\n",
    "\n",
    "# Equalize test images and writes results to disc\n",
    "\n",
    "import cv2\n",
    "import matplotlib.pyplot as plt\n",
    "\n",
    "PATH = '.' #'/content/drive/My Drive/TFG-Image-Optimization' # for Google Colab\n",
    "INPATH = PATH+'/data/jpeg/short/'\n",
    "OUPATH_HSV = PATH+'/results/histEqHSV/' # HSV representation\n",
    "OUPATH_HLS = PATH+'/results/histEqHLS/' # HLS representation\n",
    "\n",
    "imgurls = !ls -1 \"{INPATH}\" # short exposure images\n",
    "\n",
    "# Select the test set\n",
    "def isForTest(url):\n",
    "    u=url.split('-')\n",
    "    return u[1][0] == '2'\n",
    "\n",
    "# Test images\n",
    "ts_urls = [url for url in imgurls if isForTest(url)] # First digit is 2"
   ]
  },
  {
   "cell_type": "code",
   "execution_count": null,
   "metadata": {
    "colab": {},
    "colab_type": "code",
    "executionInfo": {
     "elapsed": 1441,
     "status": "ok",
     "timestamp": 1597319961871,
     "user": {
      "displayName": "DAVID CABEZAS BERRIDO",
      "photoUrl": "",
      "userId": "11478706102915359853"
     },
     "user_tz": -120
    },
    "id": "Uf34iObhrqHM"
   },
   "outputs": [],
   "source": [
    "# cv2.createCLAHE default parameters\n",
    "CLIP_LIMIT = 40.0\n",
    "TILES=8\n",
    "TILE_GRID_SIZE = (TILES,TILES)"
   ]
  },
  {
   "cell_type": "code",
   "execution_count": null,
   "metadata": {
    "colab": {},
    "colab_type": "code",
    "executionInfo": {
     "elapsed": 1968,
     "status": "ok",
     "timestamp": 1597319962409,
     "user": {
      "displayName": "DAVID CABEZAS BERRIDO",
      "photoUrl": "",
      "userId": "11478706102915359853"
     },
     "user_tz": -120
    },
    "id": "RRWwrgDXq-YV"
   },
   "outputs": [],
   "source": [
    "def equalizeHistHLS(img):\n",
    "    img_hls=cv2.cvtColor(img, cv2.COLOR_RGB2HLS) # Converts image to HLS representation\n",
    "    clahe = cv2.createCLAHE(clipLimit=CLIP_LIMIT, tileGridSize=TILE_GRID_SIZE)\n",
    "    img_hls[:,:,1] = clahe.apply(img_hls[:,:,1]) # Equalizes lightness channel\n",
    "    return cv2.cvtColor(img_hls, cv2.COLOR_HLS2RGB) # Converts back to RGB"
   ]
  },
  {
   "cell_type": "code",
   "execution_count": null,
   "metadata": {
    "colab": {},
    "colab_type": "code",
    "executionInfo": {
     "elapsed": 1422,
     "status": "ok",
     "timestamp": 1597319962411,
     "user": {
      "displayName": "DAVID CABEZAS BERRIDO",
      "photoUrl": "",
      "userId": "11478706102915359853"
     },
     "user_tz": -120
    },
    "id": "5WjEjpu_1heb"
   },
   "outputs": [],
   "source": [
    "def equalizeHistHSV(img):\n",
    "    img_hsv=cv2.cvtColor(img, cv2.COLOR_RGB2HSV) # Converts image to HSV representation\n",
    "    clahe = cv2.createCLAHE(clipLimit=CLIP_LIMIT, tileGridSize=TILE_GRID_SIZE)\n",
    "    img_hsv[:,:,2] = clahe.apply(img_hsv[:,:,2]) # Equalizes value channel\n",
    "    return cv2.cvtColor(img_hsv, cv2.COLOR_HSV2RGB) # Converts back to RGB"
   ]
  },
  {
   "cell_type": "code",
   "execution_count": null,
   "metadata": {
    "colab": {
     "base_uri": "https://localhost:8080/",
     "height": 52
    },
    "colab_type": "code",
    "executionInfo": {
     "elapsed": 1136076,
     "status": "ok",
     "timestamp": 1597324039090,
     "user": {
      "displayName": "DAVID CABEZAS BERRIDO",
      "photoUrl": "",
      "userId": "11478706102915359853"
     },
     "user_tz": -120
    },
    "id": "j9Oe96VRvgXb",
    "outputId": "8d8a2b86-aa6b-4daf-e0b0-6ab9bd184941"
   },
   "outputs": [],
   "source": [
    "# HSV representation: equalizes value channel\n",
    "for inimg in ts_urls: # Iterate throughout input test images\n",
    "    image=plt.imread(INPATH+inimg)\n",
    "    predHSV = equalizeHistHSV(image) # Equalized image\n",
    "    #plt.imshow(predHSV) # Plot\n",
    "    #plt.show()\n",
    "    plt.imsave(OUPATH_HSV+inimg,predHSV) # Save to disc"
   ]
  },
  {
   "cell_type": "code",
   "execution_count": null,
   "metadata": {},
   "outputs": [],
   "source": [
    "# HLS representation: equalizes lightness channel\n",
    "for inimg in ts_urls: # Iterate throughout input test images\n",
    "    image=plt.imread(INPATH+inimg)\n",
    "    predHLS = equalizeHistHLS(image) # Equalized image\n",
    "    #plt.imshow(predHLS) # Plot\n",
    "    #plt.show()\n",
    "    plt.imsave(OUPATH_HLS+inimg,predHLS) # Save to disc"
   ]
  }
 ],
 "metadata": {
  "colab": {
   "collapsed_sections": [],
   "name": "eqHist.ipynb",
   "provenance": []
  },
  "kernelspec": {
   "display_name": "Python 3",
   "language": "python",
   "name": "python3"
  },
  "language_info": {
   "codemirror_mode": {
    "name": "ipython",
    "version": 3
   },
   "file_extension": ".py",
   "mimetype": "text/x-python",
   "name": "python",
   "nbconvert_exporter": "python",
   "pygments_lexer": "ipython3",
   "version": "3.8.5"
  }
 },
 "nbformat": 4,
 "nbformat_minor": 1
}
